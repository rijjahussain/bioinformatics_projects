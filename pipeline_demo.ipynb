{
 "cells": [
  {
   "cell_type": "code",
   "execution_count": null,
   "id": "1ffefcfc",
   "metadata": {
    "vscode": {
     "languageId": "plaintext"
    }
   },
   "outputs": [],
   "source": [
    "!fasterq-dump SRR2584863 --split-files -O data/raw\n",
    "!fastqc data/raw/SRR2584863_1.fastq data/raw/SRR2584863_2.fastq -o qc_results\n",
    "!multiqc qc_results -o qc_summary\n"
   ]
  }
 ],
 "metadata": {
  "language_info": {
   "name": "python"
  }
 },
 "nbformat": 4,
 "nbformat_minor": 5
}
